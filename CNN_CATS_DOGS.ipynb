{
  "nbformat": 4,
  "nbformat_minor": 0,
  "metadata": {
    "colab": {
      "provenance": []
    },
    "kernelspec": {
      "name": "python3",
      "display_name": "Python 3"
    },
    "language_info": {
      "name": "python"
    }
  },
  "cells": [
    {
      "cell_type": "code",
      "execution_count": 73,
      "metadata": {
        "id": "yyfDcYmsl6MR"
      },
      "outputs": [],
      "source": [
        "## IMPORT NECESSARY LIBRARIES\n",
        "from google.colab import files\n",
        "import zipfile\n",
        "from io import BytesIO\n",
        "import io\n",
        "import os\n",
        "from tensorflow.keras.preprocessing.image import ImageDataGenerator\n",
        "from keras.models import Sequential\n",
        "from keras.layers import Conv2D, MaxPool2D, Dense, Flatten, GlobalAvgPool2D\n",
        "import numpy as np\n",
        "from sklearn.metrics import accuracy_score, confusion_matrix\n"
      ]
    },
    {
      "cell_type": "code",
      "source": [
        "## UPLOADING THE ZIPFILE\n",
        "uploaded = files.upload()"
      ],
      "metadata": {
        "colab": {
          "base_uri": "https://localhost:8080/",
          "height": 73
        },
        "id": "1JQdSCO3mMVd",
        "outputId": "78458234-287a-4b47-a0f4-711e1951cc83"
      },
      "execution_count": 74,
      "outputs": [
        {
          "output_type": "display_data",
          "data": {
            "text/plain": [
              "<IPython.core.display.HTML object>"
            ],
            "text/html": [
              "\n",
              "     <input type=\"file\" id=\"files-9fc007ac-4f29-4e72-b1f4-759dcea710bc\" name=\"files[]\" multiple disabled\n",
              "        style=\"border:none\" />\n",
              "     <output id=\"result-9fc007ac-4f29-4e72-b1f4-759dcea710bc\">\n",
              "      Upload widget is only available when the cell has been executed in the\n",
              "      current browser session. Please rerun this cell to enable.\n",
              "      </output>\n",
              "      <script>// Copyright 2017 Google LLC\n",
              "//\n",
              "// Licensed under the Apache License, Version 2.0 (the \"License\");\n",
              "// you may not use this file except in compliance with the License.\n",
              "// You may obtain a copy of the License at\n",
              "//\n",
              "//      http://www.apache.org/licenses/LICENSE-2.0\n",
              "//\n",
              "// Unless required by applicable law or agreed to in writing, software\n",
              "// distributed under the License is distributed on an \"AS IS\" BASIS,\n",
              "// WITHOUT WARRANTIES OR CONDITIONS OF ANY KIND, either express or implied.\n",
              "// See the License for the specific language governing permissions and\n",
              "// limitations under the License.\n",
              "\n",
              "/**\n",
              " * @fileoverview Helpers for google.colab Python module.\n",
              " */\n",
              "(function(scope) {\n",
              "function span(text, styleAttributes = {}) {\n",
              "  const element = document.createElement('span');\n",
              "  element.textContent = text;\n",
              "  for (const key of Object.keys(styleAttributes)) {\n",
              "    element.style[key] = styleAttributes[key];\n",
              "  }\n",
              "  return element;\n",
              "}\n",
              "\n",
              "// Max number of bytes which will be uploaded at a time.\n",
              "const MAX_PAYLOAD_SIZE = 100 * 1024;\n",
              "\n",
              "function _uploadFiles(inputId, outputId) {\n",
              "  const steps = uploadFilesStep(inputId, outputId);\n",
              "  const outputElement = document.getElementById(outputId);\n",
              "  // Cache steps on the outputElement to make it available for the next call\n",
              "  // to uploadFilesContinue from Python.\n",
              "  outputElement.steps = steps;\n",
              "\n",
              "  return _uploadFilesContinue(outputId);\n",
              "}\n",
              "\n",
              "// This is roughly an async generator (not supported in the browser yet),\n",
              "// where there are multiple asynchronous steps and the Python side is going\n",
              "// to poll for completion of each step.\n",
              "// This uses a Promise to block the python side on completion of each step,\n",
              "// then passes the result of the previous step as the input to the next step.\n",
              "function _uploadFilesContinue(outputId) {\n",
              "  const outputElement = document.getElementById(outputId);\n",
              "  const steps = outputElement.steps;\n",
              "\n",
              "  const next = steps.next(outputElement.lastPromiseValue);\n",
              "  return Promise.resolve(next.value.promise).then((value) => {\n",
              "    // Cache the last promise value to make it available to the next\n",
              "    // step of the generator.\n",
              "    outputElement.lastPromiseValue = value;\n",
              "    return next.value.response;\n",
              "  });\n",
              "}\n",
              "\n",
              "/**\n",
              " * Generator function which is called between each async step of the upload\n",
              " * process.\n",
              " * @param {string} inputId Element ID of the input file picker element.\n",
              " * @param {string} outputId Element ID of the output display.\n",
              " * @return {!Iterable<!Object>} Iterable of next steps.\n",
              " */\n",
              "function* uploadFilesStep(inputId, outputId) {\n",
              "  const inputElement = document.getElementById(inputId);\n",
              "  inputElement.disabled = false;\n",
              "\n",
              "  const outputElement = document.getElementById(outputId);\n",
              "  outputElement.innerHTML = '';\n",
              "\n",
              "  const pickedPromise = new Promise((resolve) => {\n",
              "    inputElement.addEventListener('change', (e) => {\n",
              "      resolve(e.target.files);\n",
              "    });\n",
              "  });\n",
              "\n",
              "  const cancel = document.createElement('button');\n",
              "  inputElement.parentElement.appendChild(cancel);\n",
              "  cancel.textContent = 'Cancel upload';\n",
              "  const cancelPromise = new Promise((resolve) => {\n",
              "    cancel.onclick = () => {\n",
              "      resolve(null);\n",
              "    };\n",
              "  });\n",
              "\n",
              "  // Wait for the user to pick the files.\n",
              "  const files = yield {\n",
              "    promise: Promise.race([pickedPromise, cancelPromise]),\n",
              "    response: {\n",
              "      action: 'starting',\n",
              "    }\n",
              "  };\n",
              "\n",
              "  cancel.remove();\n",
              "\n",
              "  // Disable the input element since further picks are not allowed.\n",
              "  inputElement.disabled = true;\n",
              "\n",
              "  if (!files) {\n",
              "    return {\n",
              "      response: {\n",
              "        action: 'complete',\n",
              "      }\n",
              "    };\n",
              "  }\n",
              "\n",
              "  for (const file of files) {\n",
              "    const li = document.createElement('li');\n",
              "    li.append(span(file.name, {fontWeight: 'bold'}));\n",
              "    li.append(span(\n",
              "        `(${file.type || 'n/a'}) - ${file.size} bytes, ` +\n",
              "        `last modified: ${\n",
              "            file.lastModifiedDate ? file.lastModifiedDate.toLocaleDateString() :\n",
              "                                    'n/a'} - `));\n",
              "    const percent = span('0% done');\n",
              "    li.appendChild(percent);\n",
              "\n",
              "    outputElement.appendChild(li);\n",
              "\n",
              "    const fileDataPromise = new Promise((resolve) => {\n",
              "      const reader = new FileReader();\n",
              "      reader.onload = (e) => {\n",
              "        resolve(e.target.result);\n",
              "      };\n",
              "      reader.readAsArrayBuffer(file);\n",
              "    });\n",
              "    // Wait for the data to be ready.\n",
              "    let fileData = yield {\n",
              "      promise: fileDataPromise,\n",
              "      response: {\n",
              "        action: 'continue',\n",
              "      }\n",
              "    };\n",
              "\n",
              "    // Use a chunked sending to avoid message size limits. See b/62115660.\n",
              "    let position = 0;\n",
              "    do {\n",
              "      const length = Math.min(fileData.byteLength - position, MAX_PAYLOAD_SIZE);\n",
              "      const chunk = new Uint8Array(fileData, position, length);\n",
              "      position += length;\n",
              "\n",
              "      const base64 = btoa(String.fromCharCode.apply(null, chunk));\n",
              "      yield {\n",
              "        response: {\n",
              "          action: 'append',\n",
              "          file: file.name,\n",
              "          data: base64,\n",
              "        },\n",
              "      };\n",
              "\n",
              "      let percentDone = fileData.byteLength === 0 ?\n",
              "          100 :\n",
              "          Math.round((position / fileData.byteLength) * 100);\n",
              "      percent.textContent = `${percentDone}% done`;\n",
              "\n",
              "    } while (position < fileData.byteLength);\n",
              "  }\n",
              "\n",
              "  // All done.\n",
              "  yield {\n",
              "    response: {\n",
              "      action: 'complete',\n",
              "    }\n",
              "  };\n",
              "}\n",
              "\n",
              "scope.google = scope.google || {};\n",
              "scope.google.colab = scope.google.colab || {};\n",
              "scope.google.colab._files = {\n",
              "  _uploadFiles,\n",
              "  _uploadFilesContinue,\n",
              "};\n",
              "})(self);\n",
              "</script> "
            ]
          },
          "metadata": {}
        },
        {
          "output_type": "stream",
          "name": "stdout",
          "text": [
            "Saving cats_dogs.zip to cats_dogs (2).zip\n"
          ]
        }
      ]
    },
    {
      "cell_type": "code",
      "source": [
        "## UNZIPPING THE FILE\n",
        "data = zipfile.ZipFile(io.BytesIO(uploaded['cats_dogs (2).zip']))\n",
        "data.extractall()\n",
        "data.printdir()\n",
        "data.close()"
      ],
      "metadata": {
        "id": "pda2Lqi2mMSK",
        "colab": {
          "base_uri": "https://localhost:8080/"
        },
        "outputId": "f9d50259-3d50-4b83-d25e-bdf1c053dccf"
      },
      "execution_count": 76,
      "outputs": [
        {
          "output_type": "stream",
          "name": "stdout",
          "text": [
            "File Name                                             Modified             Size\n",
            "cats_dogs/                                     2024-12-26 16:07:48            0\n",
            "cats_dogs/test_dir/                            2024-12-26 16:07:14            0\n",
            "cats_dogs/test_dir/test_cats/                  2024-12-26 16:03:12            0\n",
            "cats_dogs/test_dir/test_cats/871.jpg           2024-12-26 16:03:12        26546\n",
            "cats_dogs/test_dir/test_cats/872.jpg           2024-12-26 16:03:12        24848\n",
            "cats_dogs/test_dir/test_cats/873.jpg           2024-12-26 16:03:12        30621\n",
            "cats_dogs/test_dir/test_cats/874.jpg           2024-12-26 16:03:12         5923\n",
            "cats_dogs/test_dir/test_cats/875.jpg           2024-12-26 16:03:12        40763\n",
            "cats_dogs/test_dir/test_cats/876.jpg           2024-12-26 16:03:12        38996\n",
            "cats_dogs/test_dir/test_cats/877.jpg           2024-12-26 16:03:12        38218\n",
            "cats_dogs/test_dir/test_cats/878.jpg           2024-12-26 16:03:12        43619\n",
            "cats_dogs/test_dir/test_cats/879.jpg           2024-12-26 16:03:12        25202\n",
            "cats_dogs/test_dir/test_cats/880.jpg           2024-12-26 16:03:12        28587\n",
            "cats_dogs/test_dir/test_cats/881.jpg           2024-12-26 16:03:12        35891\n",
            "cats_dogs/test_dir/test_cats/882.jpg           2024-12-26 16:03:12        21846\n",
            "cats_dogs/test_dir/test_cats/883.jpg           2024-12-26 16:03:12        28247\n",
            "cats_dogs/test_dir/test_cats/884.jpg           2024-12-26 16:03:12        23137\n",
            "cats_dogs/test_dir/test_cats/885.jpg           2024-12-26 16:03:12        21072\n",
            "cats_dogs/test_dir/test_cats/886.jpg           2024-12-26 16:03:12        56691\n",
            "cats_dogs/test_dir/test_cats/887.jpg           2024-12-26 16:03:12        21414\n",
            "cats_dogs/test_dir/test_cats/888.jpg           2024-12-26 16:03:12        31106\n",
            "cats_dogs/test_dir/test_cats/889.jpg           2024-12-26 16:03:12        24726\n",
            "cats_dogs/test_dir/test_cats/890.jpg           2024-12-26 16:03:12        23661\n",
            "cats_dogs/test_dir/test_cats/891.jpg           2024-12-26 16:03:12        25144\n",
            "cats_dogs/test_dir/test_dogs/                  2024-12-26 16:05:28            0\n",
            "cats_dogs/test_dir/test_dogs/2867.jpg          2024-12-26 16:05:28        22594\n",
            "cats_dogs/test_dir/test_dogs/2868.jpg          2024-12-26 16:05:28        24398\n",
            "cats_dogs/test_dir/test_dogs/2869.jpg          2024-12-26 16:05:28        40226\n",
            "cats_dogs/test_dir/test_dogs/2870.jpg          2024-12-26 16:05:28        27084\n",
            "cats_dogs/test_dir/test_dogs/2871.jpg          2024-12-26 16:05:28        35308\n",
            "cats_dogs/test_dir/test_dogs/2872.jpg          2024-12-26 16:05:28        36528\n",
            "cats_dogs/test_dir/test_dogs/2873.jpg          2024-12-26 16:05:28        29107\n",
            "cats_dogs/test_dir/test_dogs/2874.jpg          2024-12-26 16:05:28         5121\n",
            "cats_dogs/test_dir/test_dogs/2875.jpg          2024-12-26 16:05:28        25777\n",
            "cats_dogs/test_dir/test_dogs/2876.jpg          2024-12-26 16:05:28        19741\n",
            "cats_dogs/test_dir/test_dogs/2877.jpg          2024-12-26 16:05:28         5532\n",
            "cats_dogs/test_dir/test_dogs/2878.jpg          2024-12-26 16:05:28        23082\n",
            "cats_dogs/test_dir/test_dogs/2879.jpg          2024-12-26 16:05:28        46492\n",
            "cats_dogs/test_dir/test_dogs/2880.jpg          2024-12-26 16:05:28        25377\n",
            "cats_dogs/test_dir/test_dogs/2881.jpg          2024-12-26 16:05:28        19100\n",
            "cats_dogs/test_dir/test_dogs/2882.jpg          2024-12-26 16:05:28        17735\n",
            "cats_dogs/test_dir/test_dogs/2883.jpg          2024-12-26 16:05:28        29833\n",
            "cats_dogs/test_dir/test_dogs/2884.jpg          2024-12-26 16:05:28        29494\n",
            "cats_dogs/test_dir/test_dogs/2885.jpg          2024-12-26 16:05:28        40431\n",
            "cats_dogs/test_dir/test_dogs/2886.jpg          2024-12-26 16:05:28        26329\n",
            "cats_dogs/test_dir/test_dogs/2887.jpg          2024-12-26 16:05:28        19309\n",
            "cats_dogs/train_dir/                           2024-12-26 16:07:04            0\n",
            "cats_dogs/train_dir/train_cats/                2024-12-26 16:02:40            0\n",
            "cats_dogs/train_dir/train_cats/0.jpg           2024-12-26 16:02:38        12213\n",
            "cats_dogs/train_dir/train_cats/1.jpg           2024-12-26 16:02:38        16868\n",
            "cats_dogs/train_dir/train_cats/10.jpg          2024-12-26 16:02:40        35381\n",
            "cats_dogs/train_dir/train_cats/11.jpg          2024-12-26 16:02:40        32280\n",
            "cats_dogs/train_dir/train_cats/12.jpg          2024-12-26 16:02:40        21751\n",
            "cats_dogs/train_dir/train_cats/13.jpg          2024-12-26 16:02:40        10926\n",
            "cats_dogs/train_dir/train_cats/14.jpg          2024-12-26 16:02:40        16642\n",
            "cats_dogs/train_dir/train_cats/15.jpg          2024-12-26 16:02:40        32764\n",
            "cats_dogs/train_dir/train_cats/16.jpg          2024-12-26 16:02:40        22232\n",
            "cats_dogs/train_dir/train_cats/17.jpg          2024-12-26 16:02:40        33202\n",
            "cats_dogs/train_dir/train_cats/18.jpg          2024-12-26 16:02:40        30977\n",
            "cats_dogs/train_dir/train_cats/19.jpg          2024-12-26 16:02:40        15157\n",
            "cats_dogs/train_dir/train_cats/2.jpg           2024-12-26 16:02:38        26997\n",
            "cats_dogs/train_dir/train_cats/20.jpg          2024-12-26 16:02:40        21677\n",
            "cats_dogs/train_dir/train_cats/21.jpg          2024-12-26 16:02:40        36882\n",
            "cats_dogs/train_dir/train_cats/22.jpg          2024-12-26 16:02:40        32035\n",
            "cats_dogs/train_dir/train_cats/23.jpg          2024-12-26 16:02:40       258082\n",
            "cats_dogs/train_dir/train_cats/24.jpg          2024-12-26 16:02:40        23891\n",
            "cats_dogs/train_dir/train_cats/25.jpg          2024-12-26 16:02:38        23289\n",
            "cats_dogs/train_dir/train_cats/3.jpg           2024-12-26 16:02:38        37954\n",
            "cats_dogs/train_dir/train_cats/4.jpg           2024-12-26 16:02:38        20465\n",
            "cats_dogs/train_dir/train_cats/5.jpg           2024-12-26 16:02:38         5751\n",
            "cats_dogs/train_dir/train_cats/6.jpg           2024-12-26 16:02:38        31144\n",
            "cats_dogs/train_dir/train_cats/7.jpg           2024-12-26 16:02:38        37333\n",
            "cats_dogs/train_dir/train_cats/8.jpg           2024-12-26 16:02:38        39127\n",
            "cats_dogs/train_dir/train_cats/9.jpg           2024-12-26 16:02:40        33992\n",
            "cats_dogs/train_dir/train_dogs/                2024-12-26 16:03:50            0\n",
            "cats_dogs/train_dir/train_dogs/0.jpg           2024-12-26 16:03:50        34448\n",
            "cats_dogs/train_dir/train_dogs/1.jpg           2024-12-26 16:03:50        26799\n",
            "cats_dogs/train_dir/train_dogs/10.jpg          2024-12-26 16:03:50        36637\n",
            "cats_dogs/train_dir/train_dogs/11.jpg          2024-12-26 16:03:50         6025\n",
            "cats_dogs/train_dir/train_dogs/12.jpg          2024-12-26 16:03:50         8203\n",
            "cats_dogs/train_dir/train_dogs/13.jpg          2024-12-26 16:03:50       109459\n",
            "cats_dogs/train_dir/train_dogs/14.jpg          2024-12-26 16:03:50        38665\n",
            "cats_dogs/train_dir/train_dogs/15.jpg          2024-12-26 16:03:50        22713\n",
            "cats_dogs/train_dir/train_dogs/16.jpg          2024-12-26 16:03:50        44651\n",
            "cats_dogs/train_dir/train_dogs/17.jpg          2024-12-26 16:03:50        19479\n",
            "cats_dogs/train_dir/train_dogs/18.jpg          2024-12-26 16:03:50        42450\n",
            "cats_dogs/train_dir/train_dogs/19.jpg          2024-12-26 16:03:50        20542\n",
            "cats_dogs/train_dir/train_dogs/2.jpg           2024-12-26 16:03:50        15311\n",
            "cats_dogs/train_dir/train_dogs/20.jpg          2024-12-26 16:03:50        40701\n",
            "cats_dogs/train_dir/train_dogs/21.jpg          2024-12-26 16:03:50        31529\n",
            "cats_dogs/train_dir/train_dogs/22.jpg          2024-12-26 16:03:50        48118\n",
            "cats_dogs/train_dir/train_dogs/23.jpg          2024-12-26 16:03:50        32765\n",
            "cats_dogs/train_dir/train_dogs/24.jpg          2024-12-26 16:03:50        23604\n",
            "cats_dogs/train_dir/train_dogs/25.jpg          2024-12-26 16:03:50        34213\n",
            "cats_dogs/train_dir/train_dogs/3.jpg           2024-12-26 16:03:50        30730\n",
            "cats_dogs/train_dir/train_dogs/4.jpg           2024-12-26 16:03:50       108590\n",
            "cats_dogs/train_dir/train_dogs/5.jpg           2024-12-26 16:03:50        40326\n",
            "cats_dogs/train_dir/train_dogs/6.jpg           2024-12-26 16:03:50        33864\n",
            "cats_dogs/train_dir/train_dogs/7.jpg           2024-12-26 16:03:50        41281\n",
            "cats_dogs/train_dir/train_dogs/8.jpg           2024-12-26 16:03:50        49345\n",
            "cats_dogs/train_dir/train_dogs/9.jpg           2024-12-26 16:03:50        30172\n"
          ]
        }
      ]
    },
    {
      "cell_type": "code",
      "source": [
        "## PATH CREATION\n",
        "base_dir = 'cats_dogs'\n",
        "train_dir = os.path.join(base_dir, 'train_dir')\n",
        "test_dir = os.path.join(base_dir, 'test_dir')\n",
        "train_cats_dir = os.path.join(train_dir, 'train_cats')\n",
        "train_dogs_dir = os.path.join(train_dir, 'train_dogs')\n",
        "test_cats_dir = os.path.join(test_dir, 'test_cats')\n",
        "test_dogs_dir = os.path.join(test_dir, 'test_dogs')\n",
        "\n",
        "tr_cats_fnames = os.listdir(train_cats_dir)\n",
        "tr_dogs_fnames = os.listdir(train_dogs_dir)\n",
        "ts_cats_fnames = os.listdir(test_cats_dir)\n",
        "ts_dogs_fnames = os.listdir(test_dogs_dir)\n"
      ],
      "metadata": {
        "id": "7nFbdBLRmMP2"
      },
      "execution_count": 77,
      "outputs": []
    },
    {
      "cell_type": "code",
      "source": [
        "print(tr_cats_fnames)\n",
        "print(tr_dogs_fnames)\n",
        "print(ts_cats_fnames)\n",
        "print(ts_dogs_fnames)"
      ],
      "metadata": {
        "id": "qwNmOtzmmMNk",
        "colab": {
          "base_uri": "https://localhost:8080/"
        },
        "outputId": "63158ce2-589c-4476-bc22-06e50bc635ab"
      },
      "execution_count": 78,
      "outputs": [
        {
          "output_type": "stream",
          "name": "stdout",
          "text": [
            "['20.jpg', '3.jpg', '18.jpg', '11.jpg', '17.jpg', '10.jpg', '1.jpg', '7.jpg', '14.jpg', '6.jpg', '13.jpg', '16.jpg', '21.jpg', '5.jpg', '9.jpg', '22.jpg', '25.jpg', '24.jpg', '23.jpg', '19.jpg', '0.jpg', '12.jpg', '2.jpg', '4.jpg', '15.jpg', '8.jpg']\n",
            "['20.jpg', '3.jpg', '18.jpg', '11.jpg', '17.jpg', '10.jpg', '1.jpg', '7.jpg', '14.jpg', '6.jpg', '13.jpg', '16.jpg', '21.jpg', '5.jpg', '9.jpg', '22.jpg', '25.jpg', '24.jpg', '23.jpg', '19.jpg', '0.jpg', '12.jpg', '2.jpg', '4.jpg', '15.jpg', '8.jpg']\n",
            "['880.jpg', '876.jpg', '883.jpg', '871.jpg', '874.jpg', '875.jpg', '877.jpg', '878.jpg', '890.jpg', '891.jpg', '889.jpg', '884.jpg', '879.jpg', '887.jpg', '873.jpg', '882.jpg', '881.jpg', '888.jpg', '872.jpg', '886.jpg', '885.jpg']\n",
            "['2877.jpg', '2867.jpg', '2873.jpg', '2878.jpg', '2881.jpg', '2871.jpg', '2868.jpg', '2870.jpg', '2880.jpg', '2883.jpg', '2887.jpg', '2874.jpg', '2875.jpg', '2879.jpg', '2876.jpg', '2869.jpg', '2884.jpg', '2882.jpg', '2872.jpg', '2886.jpg', '2885.jpg']\n"
          ]
        }
      ]
    },
    {
      "cell_type": "code",
      "source": [
        "## DISPLAYING THE NUMBER OF IMAGES FOR EACH CLASSES\n",
        "print('Number of cats train image files:', len(tr_cats_fnames))\n",
        "print('Number of dogs train image files:', len(tr_dogs_fnames))\n",
        "print('Number of cats test image files:', len(ts_cats_fnames))\n",
        "print('Number of dogs test image files:', len(ts_dogs_fnames))"
      ],
      "metadata": {
        "id": "8kNULVwwmMLL",
        "colab": {
          "base_uri": "https://localhost:8080/"
        },
        "outputId": "7c378f54-b89c-4e6e-f827-ef7874c02711"
      },
      "execution_count": 79,
      "outputs": [
        {
          "output_type": "stream",
          "name": "stdout",
          "text": [
            "Number of cats train image files: 26\n",
            "Number of dogs train image files: 26\n",
            "Number of cats test image files: 21\n",
            "Number of dogs test image files: 21\n"
          ]
        }
      ]
    },
    {
      "cell_type": "code",
      "source": [
        "## RESCALING AND PREPROCESSING OF THE IMAGES USING IMAGE DATA GENERATOR\n",
        "train_datagen = ImageDataGenerator(rescale = 1/255)\n",
        "test_datagen = ImageDataGenerator(rescale = 1/255)"
      ],
      "metadata": {
        "id": "vZ2Yk9JQmMI2"
      },
      "execution_count": 80,
      "outputs": []
    },
    {
      "cell_type": "code",
      "source": [
        "## GENERATING THE TRAIN AND TEST IMAGES\n",
        "train_data = train_datagen.flow_from_directory(train_dir, target_size = (150, 150), class_mode = 'binary')\n",
        "test_data = test_datagen.flow_from_directory(test_dir, target_size = (150, 150), class_mode = 'binary')"
      ],
      "metadata": {
        "id": "wWe2KVmtmMGs",
        "colab": {
          "base_uri": "https://localhost:8080/"
        },
        "outputId": "95e87c8d-75ea-4346-f476-c9ac29f04be7"
      },
      "execution_count": 81,
      "outputs": [
        {
          "output_type": "stream",
          "name": "stdout",
          "text": [
            "Found 52 images belonging to 2 classes.\n",
            "Found 42 images belonging to 2 classes.\n"
          ]
        }
      ]
    },
    {
      "cell_type": "code",
      "source": [
        "## STORING THE DATA AND TARGET VALUES\n",
        "X_train, y_train = next(train_data)\n",
        "\n",
        "X_test, y_test = next(test_data)"
      ],
      "metadata": {
        "id": "IA6ATrRTmMET"
      },
      "execution_count": 82,
      "outputs": []
    },
    {
      "cell_type": "code",
      "source": [
        "print(X_train.shape)\n",
        "print(y_train.shape)\n",
        "\n",
        "print(X_test.shape)\n",
        "print(y_test.shape)"
      ],
      "metadata": {
        "colab": {
          "base_uri": "https://localhost:8080/"
        },
        "id": "BqQpkJIkjQrd",
        "outputId": "44983b86-a404-4594-f59b-d61d491ff530"
      },
      "execution_count": 83,
      "outputs": [
        {
          "output_type": "stream",
          "name": "stdout",
          "text": [
            "(32, 150, 150, 3)\n",
            "(32,)\n",
            "(32, 150, 150, 3)\n",
            "(32,)\n"
          ]
        }
      ]
    },
    {
      "cell_type": "code",
      "source": [
        "## DEFINING THE CLASS LABELS FOR EACH CLASSES\n",
        "train_data.class_indices"
      ],
      "metadata": {
        "colab": {
          "base_uri": "https://localhost:8080/"
        },
        "id": "K-0hg7EgjcqU",
        "outputId": "b1a8447d-ba54-41fd-c397-e8c783b061ae"
      },
      "execution_count": 84,
      "outputs": [
        {
          "output_type": "execute_result",
          "data": {
            "text/plain": [
              "{'train_cats': 0, 'train_dogs': 1}"
            ]
          },
          "metadata": {},
          "execution_count": 84
        }
      ]
    },
    {
      "cell_type": "code",
      "source": [
        "## BUILDING THE CNN\n",
        "model = Sequential()\n",
        "model.add(Conv2D(32, kernel_size = (3,3), padding = 'same', activation = 'relu', input_shape = (150, 150, 3)))\n",
        "model.add(MaxPool2D(pool_size = 2))\n",
        "model.add(Conv2D(64, kernel_size = (3,3), padding = 'same', activation = 'relu'))\n",
        "model.add(MaxPool2D(pool_size = 2))\n",
        "model.add(Conv2D(128, kernel_size = (3,3), padding = 'same', activation = 'relu'))\n",
        "model.add(MaxPool2D(pool_size = 2))\n",
        "model.add(Flatten())\n",
        "model.add(Dense(64, activation = 'relu'))\n",
        "model.add(Dense(1, activation = 'sigmoid'))\n",
        "model.summary()\n",
        "\n"
      ],
      "metadata": {
        "id": "mHRssHT2mMCH",
        "colab": {
          "base_uri": "https://localhost:8080/",
          "height": 472
        },
        "outputId": "77aefc4b-8c15-4c5d-a1e7-3545aefd54b2"
      },
      "execution_count": 85,
      "outputs": [
        {
          "output_type": "stream",
          "name": "stderr",
          "text": [
            "/usr/local/lib/python3.10/dist-packages/keras/src/layers/convolutional/base_conv.py:107: UserWarning: Do not pass an `input_shape`/`input_dim` argument to a layer. When using Sequential models, prefer using an `Input(shape)` object as the first layer in the model instead.\n",
            "  super().__init__(activity_regularizer=activity_regularizer, **kwargs)\n"
          ]
        },
        {
          "output_type": "display_data",
          "data": {
            "text/plain": [
              "\u001b[1mModel: \"sequential_3\"\u001b[0m\n"
            ],
            "text/html": [
              "<pre style=\"white-space:pre;overflow-x:auto;line-height:normal;font-family:Menlo,'DejaVu Sans Mono',consolas,'Courier New',monospace\"><span style=\"font-weight: bold\">Model: \"sequential_3\"</span>\n",
              "</pre>\n"
            ]
          },
          "metadata": {}
        },
        {
          "output_type": "display_data",
          "data": {
            "text/plain": [
              "┏━━━━━━━━━━━━━━━━━━━━━━━━━━━━━━━━━━━━━━┳━━━━━━━━━━━━━━━━━━━━━━━━━━━━━┳━━━━━━━━━━━━━━━━━┓\n",
              "┃\u001b[1m \u001b[0m\u001b[1mLayer (type)                        \u001b[0m\u001b[1m \u001b[0m┃\u001b[1m \u001b[0m\u001b[1mOutput Shape               \u001b[0m\u001b[1m \u001b[0m┃\u001b[1m \u001b[0m\u001b[1m        Param #\u001b[0m\u001b[1m \u001b[0m┃\n",
              "┡━━━━━━━━━━━━━━━━━━━━━━━━━━━━━━━━━━━━━━╇━━━━━━━━━━━━━━━━━━━━━━━━━━━━━╇━━━━━━━━━━━━━━━━━┩\n",
              "│ conv2d_9 (\u001b[38;5;33mConv2D\u001b[0m)                    │ (\u001b[38;5;45mNone\u001b[0m, \u001b[38;5;34m150\u001b[0m, \u001b[38;5;34m150\u001b[0m, \u001b[38;5;34m32\u001b[0m)        │             \u001b[38;5;34m896\u001b[0m │\n",
              "├──────────────────────────────────────┼─────────────────────────────┼─────────────────┤\n",
              "│ max_pooling2d_9 (\u001b[38;5;33mMaxPooling2D\u001b[0m)       │ (\u001b[38;5;45mNone\u001b[0m, \u001b[38;5;34m75\u001b[0m, \u001b[38;5;34m75\u001b[0m, \u001b[38;5;34m32\u001b[0m)          │               \u001b[38;5;34m0\u001b[0m │\n",
              "├──────────────────────────────────────┼─────────────────────────────┼─────────────────┤\n",
              "│ conv2d_10 (\u001b[38;5;33mConv2D\u001b[0m)                   │ (\u001b[38;5;45mNone\u001b[0m, \u001b[38;5;34m75\u001b[0m, \u001b[38;5;34m75\u001b[0m, \u001b[38;5;34m64\u001b[0m)          │          \u001b[38;5;34m18,496\u001b[0m │\n",
              "├──────────────────────────────────────┼─────────────────────────────┼─────────────────┤\n",
              "│ max_pooling2d_10 (\u001b[38;5;33mMaxPooling2D\u001b[0m)      │ (\u001b[38;5;45mNone\u001b[0m, \u001b[38;5;34m37\u001b[0m, \u001b[38;5;34m37\u001b[0m, \u001b[38;5;34m64\u001b[0m)          │               \u001b[38;5;34m0\u001b[0m │\n",
              "├──────────────────────────────────────┼─────────────────────────────┼─────────────────┤\n",
              "│ conv2d_11 (\u001b[38;5;33mConv2D\u001b[0m)                   │ (\u001b[38;5;45mNone\u001b[0m, \u001b[38;5;34m37\u001b[0m, \u001b[38;5;34m37\u001b[0m, \u001b[38;5;34m128\u001b[0m)         │          \u001b[38;5;34m73,856\u001b[0m │\n",
              "├──────────────────────────────────────┼─────────────────────────────┼─────────────────┤\n",
              "│ max_pooling2d_11 (\u001b[38;5;33mMaxPooling2D\u001b[0m)      │ (\u001b[38;5;45mNone\u001b[0m, \u001b[38;5;34m18\u001b[0m, \u001b[38;5;34m18\u001b[0m, \u001b[38;5;34m128\u001b[0m)         │               \u001b[38;5;34m0\u001b[0m │\n",
              "├──────────────────────────────────────┼─────────────────────────────┼─────────────────┤\n",
              "│ flatten_3 (\u001b[38;5;33mFlatten\u001b[0m)                  │ (\u001b[38;5;45mNone\u001b[0m, \u001b[38;5;34m41472\u001b[0m)               │               \u001b[38;5;34m0\u001b[0m │\n",
              "├──────────────────────────────────────┼─────────────────────────────┼─────────────────┤\n",
              "│ dense_6 (\u001b[38;5;33mDense\u001b[0m)                      │ (\u001b[38;5;45mNone\u001b[0m, \u001b[38;5;34m64\u001b[0m)                  │       \u001b[38;5;34m2,654,272\u001b[0m │\n",
              "├──────────────────────────────────────┼─────────────────────────────┼─────────────────┤\n",
              "│ dense_7 (\u001b[38;5;33mDense\u001b[0m)                      │ (\u001b[38;5;45mNone\u001b[0m, \u001b[38;5;34m1\u001b[0m)                   │              \u001b[38;5;34m65\u001b[0m │\n",
              "└──────────────────────────────────────┴─────────────────────────────┴─────────────────┘\n"
            ],
            "text/html": [
              "<pre style=\"white-space:pre;overflow-x:auto;line-height:normal;font-family:Menlo,'DejaVu Sans Mono',consolas,'Courier New',monospace\">┏━━━━━━━━━━━━━━━━━━━━━━━━━━━━━━━━━━━━━━┳━━━━━━━━━━━━━━━━━━━━━━━━━━━━━┳━━━━━━━━━━━━━━━━━┓\n",
              "┃<span style=\"font-weight: bold\"> Layer (type)                         </span>┃<span style=\"font-weight: bold\"> Output Shape                </span>┃<span style=\"font-weight: bold\">         Param # </span>┃\n",
              "┡━━━━━━━━━━━━━━━━━━━━━━━━━━━━━━━━━━━━━━╇━━━━━━━━━━━━━━━━━━━━━━━━━━━━━╇━━━━━━━━━━━━━━━━━┩\n",
              "│ conv2d_9 (<span style=\"color: #0087ff; text-decoration-color: #0087ff\">Conv2D</span>)                    │ (<span style=\"color: #00d7ff; text-decoration-color: #00d7ff\">None</span>, <span style=\"color: #00af00; text-decoration-color: #00af00\">150</span>, <span style=\"color: #00af00; text-decoration-color: #00af00\">150</span>, <span style=\"color: #00af00; text-decoration-color: #00af00\">32</span>)        │             <span style=\"color: #00af00; text-decoration-color: #00af00\">896</span> │\n",
              "├──────────────────────────────────────┼─────────────────────────────┼─────────────────┤\n",
              "│ max_pooling2d_9 (<span style=\"color: #0087ff; text-decoration-color: #0087ff\">MaxPooling2D</span>)       │ (<span style=\"color: #00d7ff; text-decoration-color: #00d7ff\">None</span>, <span style=\"color: #00af00; text-decoration-color: #00af00\">75</span>, <span style=\"color: #00af00; text-decoration-color: #00af00\">75</span>, <span style=\"color: #00af00; text-decoration-color: #00af00\">32</span>)          │               <span style=\"color: #00af00; text-decoration-color: #00af00\">0</span> │\n",
              "├──────────────────────────────────────┼─────────────────────────────┼─────────────────┤\n",
              "│ conv2d_10 (<span style=\"color: #0087ff; text-decoration-color: #0087ff\">Conv2D</span>)                   │ (<span style=\"color: #00d7ff; text-decoration-color: #00d7ff\">None</span>, <span style=\"color: #00af00; text-decoration-color: #00af00\">75</span>, <span style=\"color: #00af00; text-decoration-color: #00af00\">75</span>, <span style=\"color: #00af00; text-decoration-color: #00af00\">64</span>)          │          <span style=\"color: #00af00; text-decoration-color: #00af00\">18,496</span> │\n",
              "├──────────────────────────────────────┼─────────────────────────────┼─────────────────┤\n",
              "│ max_pooling2d_10 (<span style=\"color: #0087ff; text-decoration-color: #0087ff\">MaxPooling2D</span>)      │ (<span style=\"color: #00d7ff; text-decoration-color: #00d7ff\">None</span>, <span style=\"color: #00af00; text-decoration-color: #00af00\">37</span>, <span style=\"color: #00af00; text-decoration-color: #00af00\">37</span>, <span style=\"color: #00af00; text-decoration-color: #00af00\">64</span>)          │               <span style=\"color: #00af00; text-decoration-color: #00af00\">0</span> │\n",
              "├──────────────────────────────────────┼─────────────────────────────┼─────────────────┤\n",
              "│ conv2d_11 (<span style=\"color: #0087ff; text-decoration-color: #0087ff\">Conv2D</span>)                   │ (<span style=\"color: #00d7ff; text-decoration-color: #00d7ff\">None</span>, <span style=\"color: #00af00; text-decoration-color: #00af00\">37</span>, <span style=\"color: #00af00; text-decoration-color: #00af00\">37</span>, <span style=\"color: #00af00; text-decoration-color: #00af00\">128</span>)         │          <span style=\"color: #00af00; text-decoration-color: #00af00\">73,856</span> │\n",
              "├──────────────────────────────────────┼─────────────────────────────┼─────────────────┤\n",
              "│ max_pooling2d_11 (<span style=\"color: #0087ff; text-decoration-color: #0087ff\">MaxPooling2D</span>)      │ (<span style=\"color: #00d7ff; text-decoration-color: #00d7ff\">None</span>, <span style=\"color: #00af00; text-decoration-color: #00af00\">18</span>, <span style=\"color: #00af00; text-decoration-color: #00af00\">18</span>, <span style=\"color: #00af00; text-decoration-color: #00af00\">128</span>)         │               <span style=\"color: #00af00; text-decoration-color: #00af00\">0</span> │\n",
              "├──────────────────────────────────────┼─────────────────────────────┼─────────────────┤\n",
              "│ flatten_3 (<span style=\"color: #0087ff; text-decoration-color: #0087ff\">Flatten</span>)                  │ (<span style=\"color: #00d7ff; text-decoration-color: #00d7ff\">None</span>, <span style=\"color: #00af00; text-decoration-color: #00af00\">41472</span>)               │               <span style=\"color: #00af00; text-decoration-color: #00af00\">0</span> │\n",
              "├──────────────────────────────────────┼─────────────────────────────┼─────────────────┤\n",
              "│ dense_6 (<span style=\"color: #0087ff; text-decoration-color: #0087ff\">Dense</span>)                      │ (<span style=\"color: #00d7ff; text-decoration-color: #00d7ff\">None</span>, <span style=\"color: #00af00; text-decoration-color: #00af00\">64</span>)                  │       <span style=\"color: #00af00; text-decoration-color: #00af00\">2,654,272</span> │\n",
              "├──────────────────────────────────────┼─────────────────────────────┼─────────────────┤\n",
              "│ dense_7 (<span style=\"color: #0087ff; text-decoration-color: #0087ff\">Dense</span>)                      │ (<span style=\"color: #00d7ff; text-decoration-color: #00d7ff\">None</span>, <span style=\"color: #00af00; text-decoration-color: #00af00\">1</span>)                   │              <span style=\"color: #00af00; text-decoration-color: #00af00\">65</span> │\n",
              "└──────────────────────────────────────┴─────────────────────────────┴─────────────────┘\n",
              "</pre>\n"
            ]
          },
          "metadata": {}
        },
        {
          "output_type": "display_data",
          "data": {
            "text/plain": [
              "\u001b[1m Total params: \u001b[0m\u001b[38;5;34m2,747,585\u001b[0m (10.48 MB)\n"
            ],
            "text/html": [
              "<pre style=\"white-space:pre;overflow-x:auto;line-height:normal;font-family:Menlo,'DejaVu Sans Mono',consolas,'Courier New',monospace\"><span style=\"font-weight: bold\"> Total params: </span><span style=\"color: #00af00; text-decoration-color: #00af00\">2,747,585</span> (10.48 MB)\n",
              "</pre>\n"
            ]
          },
          "metadata": {}
        },
        {
          "output_type": "display_data",
          "data": {
            "text/plain": [
              "\u001b[1m Trainable params: \u001b[0m\u001b[38;5;34m2,747,585\u001b[0m (10.48 MB)\n"
            ],
            "text/html": [
              "<pre style=\"white-space:pre;overflow-x:auto;line-height:normal;font-family:Menlo,'DejaVu Sans Mono',consolas,'Courier New',monospace\"><span style=\"font-weight: bold\"> Trainable params: </span><span style=\"color: #00af00; text-decoration-color: #00af00\">2,747,585</span> (10.48 MB)\n",
              "</pre>\n"
            ]
          },
          "metadata": {}
        },
        {
          "output_type": "display_data",
          "data": {
            "text/plain": [
              "\u001b[1m Non-trainable params: \u001b[0m\u001b[38;5;34m0\u001b[0m (0.00 B)\n"
            ],
            "text/html": [
              "<pre style=\"white-space:pre;overflow-x:auto;line-height:normal;font-family:Menlo,'DejaVu Sans Mono',consolas,'Courier New',monospace\"><span style=\"font-weight: bold\"> Non-trainable params: </span><span style=\"color: #00af00; text-decoration-color: #00af00\">0</span> (0.00 B)\n",
              "</pre>\n"
            ]
          },
          "metadata": {}
        }
      ]
    },
    {
      "cell_type": "code",
      "source": [
        "## MODEL COMPILATION\n",
        "model.compile(optimizer = 'RMSProp', loss = 'binary_crossentropy', metrics = ['accuracy'])"
      ],
      "metadata": {
        "id": "U2TKxs0fmL_s"
      },
      "execution_count": 86,
      "outputs": []
    },
    {
      "cell_type": "code",
      "source": [
        "## MODEL TRAINING\n",
        "hist = model.fit(train_data, epochs = 15, validation_data = test_data)"
      ],
      "metadata": {
        "id": "BOsqmSSQmL64",
        "colab": {
          "base_uri": "https://localhost:8080/"
        },
        "outputId": "2c432bea-0357-4534-d638-4fa1a2758aac"
      },
      "execution_count": 89,
      "outputs": [
        {
          "output_type": "stream",
          "name": "stdout",
          "text": [
            "Epoch 1/15\n",
            "\u001b[1m2/2\u001b[0m \u001b[32m━━━━━━━━━━━━━━━━━━━━\u001b[0m\u001b[37m\u001b[0m \u001b[1m4s\u001b[0m 2s/step - accuracy: 0.5417 - loss: 0.6193 - val_accuracy: 0.5714 - val_loss: 0.6859\n",
            "Epoch 2/15\n",
            "\u001b[1m2/2\u001b[0m \u001b[32m━━━━━━━━━━━━━━━━━━━━\u001b[0m\u001b[37m\u001b[0m \u001b[1m3s\u001b[0m 2s/step - accuracy: 0.8221 - loss: 0.6189 - val_accuracy: 0.5476 - val_loss: 0.6781\n",
            "Epoch 3/15\n",
            "\u001b[1m2/2\u001b[0m \u001b[32m━━━━━━━━━━━━━━━━━━━━\u001b[0m\u001b[37m\u001b[0m \u001b[1m5s\u001b[0m 4s/step - accuracy: 0.8256 - loss: 0.5166 - val_accuracy: 0.5000 - val_loss: 0.7990\n",
            "Epoch 4/15\n",
            "\u001b[1m2/2\u001b[0m \u001b[32m━━━━━━━━━━━━━━━━━━━━\u001b[0m\u001b[37m\u001b[0m \u001b[1m4s\u001b[0m 2s/step - accuracy: 0.6910 - loss: 0.5358 - val_accuracy: 0.5238 - val_loss: 0.6883\n",
            "Epoch 5/15\n",
            "\u001b[1m2/2\u001b[0m \u001b[32m━━━━━━━━━━━━━━━━━━━━\u001b[0m\u001b[37m\u001b[0m \u001b[1m3s\u001b[0m 2s/step - accuracy: 0.7708 - loss: 0.4494 - val_accuracy: 0.5238 - val_loss: 0.7656\n",
            "Epoch 6/15\n",
            "\u001b[1m2/2\u001b[0m \u001b[32m━━━━━━━━━━━━━━━━━━━━\u001b[0m\u001b[37m\u001b[0m \u001b[1m3s\u001b[0m 2s/step - accuracy: 0.7372 - loss: 0.4696 - val_accuracy: 0.5238 - val_loss: 0.8505\n",
            "Epoch 7/15\n",
            "\u001b[1m2/2\u001b[0m \u001b[32m━━━━━━━━━━━━━━━━━━━━\u001b[0m\u001b[37m\u001b[0m \u001b[1m5s\u001b[0m 4s/step - accuracy: 0.8103 - loss: 0.4415 - val_accuracy: 0.6429 - val_loss: 0.7000\n",
            "Epoch 8/15\n",
            "\u001b[1m2/2\u001b[0m \u001b[32m━━━━━━━━━━━━━━━━━━━━\u001b[0m\u001b[37m\u001b[0m \u001b[1m3s\u001b[0m 2s/step - accuracy: 0.9282 - loss: 0.2851 - val_accuracy: 0.4762 - val_loss: 1.1390\n",
            "Epoch 9/15\n",
            "\u001b[1m2/2\u001b[0m \u001b[32m━━━━━━━━━━━━━━━━━━━━\u001b[0m\u001b[37m\u001b[0m \u001b[1m4s\u001b[0m 3s/step - accuracy: 0.7077 - loss: 0.3895 - val_accuracy: 0.5952 - val_loss: 0.7112\n",
            "Epoch 10/15\n",
            "\u001b[1m2/2\u001b[0m \u001b[32m━━━━━━━━━━━━━━━━━━━━\u001b[0m\u001b[37m\u001b[0m \u001b[1m4s\u001b[0m 3s/step - accuracy: 0.9872 - loss: 0.2868 - val_accuracy: 0.4762 - val_loss: 1.3643\n",
            "Epoch 11/15\n",
            "\u001b[1m2/2\u001b[0m \u001b[32m━━━━━━━━━━━━━━━━━━━━\u001b[0m\u001b[37m\u001b[0m \u001b[1m4s\u001b[0m 2s/step - accuracy: 0.5721 - loss: 0.6306 - val_accuracy: 0.5714 - val_loss: 0.6696\n",
            "Epoch 12/15\n",
            "\u001b[1m2/2\u001b[0m \u001b[32m━━━━━━━━━━━━━━━━━━━━\u001b[0m\u001b[37m\u001b[0m \u001b[1m3s\u001b[0m 2s/step - accuracy: 0.9577 - loss: 0.2692 - val_accuracy: 0.6190 - val_loss: 0.7201\n",
            "Epoch 13/15\n",
            "\u001b[1m2/2\u001b[0m \u001b[32m━━━━━━━━━━━━━━━━━━━━\u001b[0m\u001b[37m\u001b[0m \u001b[1m6s\u001b[0m 3s/step - accuracy: 0.9577 - loss: 0.1996 - val_accuracy: 0.5476 - val_loss: 0.7696\n",
            "Epoch 14/15\n",
            "\u001b[1m2/2\u001b[0m \u001b[32m━━━━━━━━━━━━━━━━━━━━\u001b[0m\u001b[37m\u001b[0m \u001b[1m4s\u001b[0m 2s/step - accuracy: 0.9639 - loss: 0.1728 - val_accuracy: 0.5000 - val_loss: 0.8195\n",
            "Epoch 15/15\n",
            "\u001b[1m2/2\u001b[0m \u001b[32m━━━━━━━━━━━━━━━━━━━━\u001b[0m\u001b[37m\u001b[0m \u001b[1m4s\u001b[0m 2s/step - accuracy: 0.9705 - loss: 0.1719 - val_accuracy: 0.5476 - val_loss: 0.8174\n"
          ]
        }
      ]
    },
    {
      "cell_type": "code",
      "source": [
        "## PREDICTION FROM THE TRAIN_DATA\n",
        "\n",
        "y_pr = np.round(model.predict(X_train))\n",
        "y_pr = y_pr.reshape((32, ))\n",
        "print('Predicted classes', y_pr)\n",
        "print('Target classes', y_train)"
      ],
      "metadata": {
        "id": "ZYTs5WV6mL4s",
        "colab": {
          "base_uri": "https://localhost:8080/"
        },
        "outputId": "0979e5ec-29bd-480f-bbda-eb3c9f4b5fb6"
      },
      "execution_count": 91,
      "outputs": [
        {
          "output_type": "stream",
          "name": "stdout",
          "text": [
            "\u001b[1m1/1\u001b[0m \u001b[32m━━━━━━━━━━━━━━━━━━━━\u001b[0m\u001b[37m\u001b[0m \u001b[1m0s\u001b[0m 453ms/step\n",
            "Predicted classes [0. 1. 1. 0. 1. 1. 1. 0. 0. 0. 0. 0. 0. 0. 1. 0. 1. 0. 1. 0. 1. 1. 1. 1.\n",
            " 1. 0. 0. 0. 1. 1. 0. 1.]\n",
            "Target classes [0. 1. 1. 0. 1. 1. 1. 0. 0. 0. 0. 0. 0. 0. 1. 0. 1. 0. 1. 0. 1. 1. 1. 1.\n",
            " 1. 0. 0. 0. 1. 1. 0. 1.]\n"
          ]
        }
      ]
    },
    {
      "cell_type": "code",
      "source": [
        "## PREDICTION FROM THE TEST_DATA\n",
        "y_pr = np.round(model.predict(X_test))\n",
        "y_pr = y_pr.reshape((32, ))\n",
        "print('Predicted classes', y_pr)\n",
        "print('Target classes', y_test)\n"
      ],
      "metadata": {
        "id": "dIjXp5RqmL2S",
        "colab": {
          "base_uri": "https://localhost:8080/"
        },
        "outputId": "3582462d-a1e6-4c4e-8ba6-05b1208c9c5f"
      },
      "execution_count": 92,
      "outputs": [
        {
          "output_type": "stream",
          "name": "stdout",
          "text": [
            "\u001b[1m1/1\u001b[0m \u001b[32m━━━━━━━━━━━━━━━━━━━━\u001b[0m\u001b[37m\u001b[0m \u001b[1m1s\u001b[0m 616ms/step\n",
            "Predicted classes [0. 0. 0. 1. 1. 1. 1. 0. 0. 0. 0. 1. 0. 0. 0. 1. 1. 0. 0. 1. 1. 1. 1. 1.\n",
            " 1. 1. 0. 1. 0. 0. 1. 0.]\n",
            "Target classes [1. 1. 0. 1. 0. 0. 0. 0. 1. 0. 0. 0. 1. 0. 0. 1. 1. 1. 0. 1. 1. 0. 1. 1.\n",
            " 0. 1. 1. 0. 0. 1. 0. 1.]\n"
          ]
        }
      ]
    },
    {
      "cell_type": "code",
      "source": [
        "## MODEL EVALUATION\n",
        "accuracy = accuracy_score(y_pr, y_test)\n",
        "accuracy"
      ],
      "metadata": {
        "id": "1W4F0DjtmL0H",
        "colab": {
          "base_uri": "https://localhost:8080/"
        },
        "outputId": "df6cfe16-3dad-4e30-da1d-00a2dcee328b"
      },
      "execution_count": 96,
      "outputs": [
        {
          "output_type": "execute_result",
          "data": {
            "text/plain": [
              "0.5"
            ]
          },
          "metadata": {},
          "execution_count": 96
        }
      ]
    },
    {
      "cell_type": "code",
      "source": [
        "## PRINTING THE CONFUSION_MATRIX\n",
        "conf_matrix = confusion_matrix(y_pr, y_test)\n",
        "conf_matrix"
      ],
      "metadata": {
        "id": "wKK2PJiYmLxe",
        "colab": {
          "base_uri": "https://localhost:8080/"
        },
        "outputId": "e55f989a-e670-476a-8e54-0c322022e1fb"
      },
      "execution_count": 97,
      "outputs": [
        {
          "output_type": "execute_result",
          "data": {
            "text/plain": [
              "array([[8, 8],\n",
              "       [8, 8]])"
            ]
          },
          "metadata": {},
          "execution_count": 97
        }
      ]
    }
  ]
}